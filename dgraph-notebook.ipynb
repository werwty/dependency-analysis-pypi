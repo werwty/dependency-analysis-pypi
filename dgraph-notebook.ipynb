{
 "cells": [
  {
   "cell_type": "code",
   "execution_count": 1,
   "metadata": {},
   "outputs": [],
   "source": [
    "import pydgraph\n",
    "import json"
   ]
  },
  {
   "cell_type": "code",
   "execution_count": 2,
   "metadata": {},
   "outputs": [],
   "source": [
    "client_stub = pydgraph.DgraphClientStub('localhost:9080')\n",
    "client = pydgraph.DgraphClient(client_stub)"
   ]
  },
  {
   "cell_type": "code",
   "execution_count": 10,
   "metadata": {},
   "outputs": [
    {
     "data": {
      "text/plain": []
     },
     "execution_count": 10,
     "metadata": {},
     "output_type": "execute_result"
    }
   ],
   "source": [
    "# Drop All - discard all data and start from a clean slate.\n",
    "def drop_all(client):\n",
    "    return client.alter(pydgraph.Operation(drop_all=True))\n",
    "\n",
    "# Set schema.\n",
    "def set_schema(client):\n",
    "    schema = \"\"\"\n",
    "    name: string @index(exact) .\n",
    "    depends: [uid] @reverse .\n",
    "    version: string .\n",
    "    type Package {\n",
    "        name\n",
    "        depends\n",
    "        version\n",
    "    }\n",
    "    \"\"\"\n",
    "    return client.alter(pydgraph.Operation(schema=schema))\n",
    "\n",
    "drop_all(client)\n",
    "\n",
    "set_schema(client)\n",
    "\n"
   ]
  },
  {
   "cell_type": "code",
   "execution_count": 35,
   "metadata": {},
   "outputs": [],
   "source": [
    "   "
   ]
  },
  {
   "cell_type": "code",
   "execution_count": 28,
   "metadata": {},
   "outputs": [
    {
     "name": "stdout",
     "output_type": "stream",
     "text": [
      "txn {\n",
      "  start_ts: 10019\n",
      "  keys: \"15x98ilja01i\"\n",
      "  keys: \"1cagssnvzzdxl\"\n",
      "  keys: \"1jce8w6ahf3mn\"\n",
      "  keys: \"1pbw4rrumo7hm\"\n",
      "  keys: \"1qlu7kry98rze\"\n",
      "  keys: \"1yhcp8x88nrft\"\n",
      "  keys: \"220085ozcopbe\"\n",
      "  keys: \"24fht1azcqn7m\"\n",
      "  keys: \"27w0ya0gw4799\"\n",
      "  keys: \"2a6oy5qo9hlmn\"\n",
      "  keys: \"2f48ij1allqaz\"\n",
      "  keys: \"2f4ib30alug5c\"\n",
      "  keys: \"2h1qfumd5xvxk\"\n",
      "  keys: \"2h1qfumd5xvxl\"\n",
      "  keys: \"2h1qfumd5xvxn\"\n",
      "  keys: \"2h1qfumd5xvxo\"\n",
      "  keys: \"2h1qfumd5xvxz\"\n",
      "  keys: \"2v9dtuhid9nju\"\n",
      "  keys: \"2ywevowb30s58\"\n",
      "  keys: \"3e8l1s015dktm\"\n",
      "  keys: \"3kml8m6z0epfh\"\n",
      "  keys: \"3kp30f4952b01\"\n",
      "  keys: \"3pz3l3uyb64a6\"\n",
      "  keys: \"3t4j778qs7eki\"\n",
      "  keys: \"3t4j778qs7ekk\"\n",
      "  keys: \"3t4j778qs7ekl\"\n",
      "  keys: \"3t4j778qs7ekm\"\n",
      "  keys: \"3t4j778qs7ekn\"\n",
      "  keys: \"3t4j778qs7el5\"\n",
      "  keys: \"3tyll093pssbi\"\n",
      "  keys: \"6zaqm3fvfcsi\"\n",
      "  keys: \"i7lvspl71ke2\"\n",
      "  keys: \"j6j8ldkmeqh8\"\n",
      "  keys: \"smcdrrb8bfn7\"\n",
      "  preds: \"1-depends\"\n",
      "  preds: \"1-dgraph.type\"\n",
      "  preds: \"1-name\"\n",
      "  preds: \"1-version_specifier\"\n",
      "}\n",
      "latency {\n",
      "  parsing_ns: 80098\n",
      "  processing_ns: 32267416\n",
      "  assign_timestamp_ns: 447579\n",
      "}\n",
      "uids {\n",
      "  key: \"argon2-cffi\"\n",
      "  value: \"0x2730\"\n",
      "}\n",
      "uids {\n",
      "  key: \"asgiref\"\n",
      "  value: \"0x272f\"\n",
      "}\n",
      "uids {\n",
      "  key: \"bcrypt\"\n",
      "  value: \"0x2731\"\n",
      "}\n",
      "uids {\n",
      "  key: \"django\"\n",
      "  value: \"0x2732\"\n",
      "}\n",
      "uids {\n",
      "  key: \"pytz\"\n",
      "  value: \"0x2733\"\n",
      "}\n",
      "uids {\n",
      "  key: \"sqlparse\"\n",
      "  value: \"0x2734\"\n",
      "}\n",
      "\n"
     ]
    }
   ],
   "source": [
    "txn = client.txn()\n",
    "\n",
    "try:\n",
    "    django = {\n",
    "        'uid': '_:django',\n",
    "        'dgraph.type': 'Package',\n",
    "        'name': 'Django',\n",
    "        'depends': [\n",
    "            {\n",
    "                'uid': '_:pytz',\n",
    "                'dgraph.type': 'Package',\n",
    "                'name': 'pytz',\n",
    "                'version_specifier': '*'\n",
    "            },\n",
    "            {\n",
    "                'uid': '_:sqlparse',\n",
    "                'dgraph.type': 'Package',\n",
    "                'name': 'sqlparse',\n",
    "                'version_specifier': '>=0.2.2'\n",
    "            },\n",
    "            {\n",
    "                'uid': '_:asgiref',\n",
    "                'dgraph.type': 'Package',\n",
    "                'name': 'asgiref',\n",
    "                'version_specifier': '~=3.2'\n",
    "            },\n",
    "                        {\n",
    "                'uid': '_:argon2-cffi',\n",
    "                'dgraph.type': 'Package',\n",
    "                'name': 'argon2-cffi',\n",
    "                'version_specifier': '>=16.1.0'\n",
    "            },\n",
    "                        {\n",
    "                'uid': '_:bcrypt',\n",
    "                'dgraph.type': 'Package',\n",
    "                'name': 'bcrypt',\n",
    "                'version_specifier': '*'\n",
    "            },\n",
    "        ],\n",
    "    }\n",
    "\n",
    "    asgiref = {\n",
    "        'uid': 'asgiref',\n",
    "        'dgraph.type': 'Package',\n",
    "        'name': 'asgiref',\n",
    "        'depends': [\n",
    "            {\n",
    "                'uid': 'pytest',\n",
    "                'dgraph.type': 'Package',\n",
    "                'name': 'pytest',\n",
    "                'version_specifier': '~=4.3.0'\n",
    "            },\n",
    "            {\n",
    "                'uid': '_:pytest-asyncio',\n",
    "                'dgraph.type': 'Package',\n",
    "                'name': 'pytest-asyncio',\n",
    "                'version_specifier': '~=0.10.0'\n",
    "            },\n",
    "           \n",
    "        ],\n",
    "    }\n",
    "    \n",
    "    pytest = {\n",
    "        'uid': 'pytest',\n",
    "        'dgraph.type': 'Package',\n",
    "        'name': 'pytest',\n",
    "        'depends': [\n",
    "            {\n",
    "                'uid': 'py',\n",
    "                'dgraph.type': 'Package',\n",
    "                'name': 'py',\n",
    "                'version_specifier': '>=1.5.0'\n",
    "            },\n",
    "            {\n",
    "                'uid': 'packaging',\n",
    "                'dgraph.type': 'Package',\n",
    "                'name': 'packaging',\n",
    "                'version_specifier': '*'\n",
    "            },\n",
    "           \n",
    "        ],\n",
    "    }\n",
    "    \n",
    "    response = txn.mutate(set_obj=django)\n",
    "    print(response)\n",
    "    #response = txn.mutate(set_obj=asgiref)\n",
    "    #response = txn.mutate(set_obj=pytest)\n",
    "\n",
    "    txn.commit()\n",
    "finally:\n",
    "  txn.discard()"
   ]
  },
  {
   "cell_type": "code",
   "execution_count": 19,
   "metadata": {},
   "outputs": [],
   "source": [
    "# Query for data.\n",
    "def query_package(client, package_name):\n",
    "    # Run query.\n",
    "    query = \"\"\"query all($a: string) {\n",
    "        all(func: eq(name, $a)) {\n",
    "            uid\n",
    "            name\n",
    "            version\n",
    "            depends {\n",
    "                name\n",
    "                version\n",
    "                version_specifier\n",
    "            }\n",
    "        }\n",
    "    }\"\"\"\n",
    "\n",
    "    variables = {'$a': package_name}\n",
    "    res = client.txn(read_only=True).query(query, variables=variables)\n",
    "    packages = json.loads(res.json)\n",
    "\n",
    "    # Print results.\n",
    "    return packages\n"
   ]
  },
  {
   "cell_type": "code",
   "execution_count": 20,
   "metadata": {},
   "outputs": [],
   "source": [
    "\n",
    "django_dgraph = query_package(client, 'Django')\n"
   ]
  },
  {
   "cell_type": "code",
   "execution_count": 22,
   "metadata": {},
   "outputs": [
    {
     "data": {
      "text/plain": [
       "'0x272e'"
      ]
     },
     "execution_count": 22,
     "metadata": {},
     "output_type": "execute_result"
    }
   ],
   "source": [
    "django_dgraph['all'][0]['uid']"
   ]
  },
  {
   "cell_type": "code",
   "execution_count": 23,
   "metadata": {},
   "outputs": [],
   "source": [
    "txn = client.txn()\n",
    "\n",
    "try:\n",
    "    django = {\n",
    "        'uid': django_dgraph['all'][0]['uid'],\n",
    "        'dgraph.type': 'Package',\n",
    "        'name': 'Django',\n",
    "\n",
    "    }\n",
    "\n",
    "    \n",
    "    response = txn.mutate(set_obj=django)\n",
    "    #response = txn.mutate(set_obj=asgiref)\n",
    "    #response = txn.mutate(set_obj=pytest)\n",
    "\n",
    "    txn.commit()\n",
    "finally:\n",
    "  txn.discard()"
   ]
  },
  {
   "cell_type": "code",
   "execution_count": 26,
   "metadata": {},
   "outputs": [],
   "source": [
    "django_dgraph = query_package(client, 'Django2')\n"
   ]
  },
  {
   "cell_type": "code",
   "execution_count": 27,
   "metadata": {},
   "outputs": [
    {
     "data": {
      "text/plain": [
       "{'all': [{'uid': '0x272e',\n",
       "   'name': 'Django2',\n",
       "   'depends': [{'name': 'pytz', 'version_specifier': '*'},\n",
       "    {'name': 'sqlparse', 'version_specifier': '>=0.2.2'},\n",
       "    {'name': 'asgiref', 'version_specifier': '~=3.2'},\n",
       "    {'name': 'argon2-cffi', 'version_specifier': '>=16.1.0'},\n",
       "    {'name': 'bcrypt', 'version_specifier': '*'}]}]}"
      ]
     },
     "execution_count": 27,
     "metadata": {},
     "output_type": "execute_result"
    }
   ],
   "source": [
    "django_dgraph"
   ]
  },
  {
   "cell_type": "code",
   "execution_count": null,
   "metadata": {},
   "outputs": [],
   "source": []
  }
 ],
 "metadata": {
  "kernelspec": {
   "display_name": "Python 3",
   "language": "python",
   "name": "python3"
  },
  "language_info": {
   "codemirror_mode": {
    "name": "ipython",
    "version": 3
   },
   "file_extension": ".py",
   "mimetype": "text/x-python",
   "name": "python",
   "nbconvert_exporter": "python",
   "pygments_lexer": "ipython3",
   "version": "3.7.6"
  }
 },
 "nbformat": 4,
 "nbformat_minor": 4
}
