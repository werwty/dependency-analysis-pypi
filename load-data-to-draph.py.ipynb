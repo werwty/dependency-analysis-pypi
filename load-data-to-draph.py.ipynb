{
 "cells": [
  {
   "cell_type": "code",
   "execution_count": 166,
   "metadata": {},
   "outputs": [],
   "source": [
    "import json\n",
    "import logging\n",
    "import os\n",
    "\n",
    "import click\n",
    "import pydgraph\n",
    "from pprint import pprint"
   ]
  },
  {
   "cell_type": "code",
   "execution_count": 167,
   "metadata": {},
   "outputs": [],
   "source": [
    "logger = logging.getLogger(\"Dependency Graph Generation\")\n",
    "client_stub = pydgraph.DgraphClientStub('localhost:9080')\n",
    "client = pydgraph.DgraphClient(client_stub)"
   ]
  },
  {
   "cell_type": "code",
   "execution_count": 168,
   "metadata": {},
   "outputs": [
    {
     "data": {
      "text/plain": []
     },
     "execution_count": 168,
     "metadata": {},
     "output_type": "execute_result"
    }
   ],
   "source": [
    "# Drop All - discard all data and start from a clean slate.\n",
    "def drop_all(client):\n",
    "    return client.alter(pydgraph.Operation(drop_all=True))\n",
    "\n",
    "# Set schema.\n",
    "def set_schema(client):\n",
    "    schema = \"\"\"\n",
    "    name: string @index(exact) .\n",
    "    depends: [uid] @reverse .\n",
    "    version: string .\n",
    "    src: string .\n",
    "    pkg_rel_date: string .\n",
    "    number_dependents: int .\n",
    "    type Package {\n",
    "        name\n",
    "        depends\n",
    "        version\n",
    "    }\n",
    "    \"\"\"\n",
    "    return client.alter(pydgraph.Operation(schema=schema))\n",
    "\n",
    "drop_all(client)\n",
    "set_schema(client)"
   ]
  },
  {
   "cell_type": "code",
   "execution_count": 169,
   "metadata": {},
   "outputs": [],
   "source": [
    "def query_package(client, package_name, package_version):\n",
    "    \"\"\"Check if package(name,version) is already in dgraph\"\"\"\n",
    "    query = \"\"\"query all($name: string, $version: string) {\n",
    "        all(func: eq(name, $name)) @filter(eq($version, version)) {\n",
    "            uid\n",
    "            name\n",
    "            version\n",
    "            depends {\n",
    "                name\n",
    "                version\n",
    "                version_specifier\n",
    "            }\n",
    "            number_dependents\n",
    "        }\n",
    "    }\"\"\"\n",
    "\n",
    "    variables = {'$name': package_name, '$version': package_version}\n",
    "    res = client.txn(read_only=True).query(query, variables=variables)\n",
    "    packages = json.loads(res.json)\n",
    "\n",
    "    # Print results.\n",
    "    if packages.get(\"all\"):\n",
    "        return packages.get(\"all\")[0]\n",
    "    return []\n",
    "\n",
    "def insert_package(package_json):\n",
    "    txn = client.txn()\n",
    "\n",
    "    package_uid = {}\n",
    "    pkg_dependencies = {}\n",
    "    for package_name, package in package_json.get(\"dep_info\", {}).items():\n",
    "        version = package.get(\"ver\")\n",
    "        \n",
    "        # Check if this package already exists in the graph db.\n",
    "        # if it does increment its number of dependents by 1\n",
    "        # otherwise insert it into the graph db.\n",
    "        existing_package = query_package(client, package_name, version)\n",
    "        if existing_package:\n",
    "            existing_package['number_dependents'] = existing_package['number_dependents']+1\n",
    "            txn.mutate(set_obj=existing_package)   \n",
    "            package_uid[(package_name, version)] = existing_package['uid']\n",
    "            continue\n",
    "            \n",
    "        pkg_to_insert = {\n",
    "            'uid': '_:{}'.format(package_name),\n",
    "            'dgraph.type': 'Package',\n",
    "            'name': package_name,\n",
    "            'version': version,\n",
    "            'pkg_rel_date': package['pkg_rel_date'][0],\n",
    "            'src': package['src'][0],\n",
    "            'number_dependents': 0\n",
    "\n",
    "        }\n",
    "        \n",
    "        insert_data = txn.mutate(set_obj=pkg_to_insert)   \n",
    "        package_uid[(package_name, version)] = insert_data.uids[package_name]\n",
    "        \n",
    "        pkg_dependencies[insert_data.uids[package_name]] = package.get('dep')\n",
    "\n",
    "    # it is important that we commit the dependencies after we insert the nodes\n",
    "    # otherwise we can't link them via uuid\n",
    "    for package_uuid, dependencies in pkg_dependencies.items():\n",
    "        for dependency in dependencies:\n",
    "            dependency_to_insert = {\n",
    "                \"uid\": package_uuid,\n",
    "                \"depends\": {\n",
    "                    \"uid\": package_uid[(dependency['dep_name'], dependency['dep_ver'])],\n",
    "                    'name': dependency['dep_name'],\n",
    "                    'version': dependency['dep_ver'],\n",
    "                    'version_specifier': dependency['dep_constraint']\n",
    "                }\n",
    "            }\n",
    "            \n",
    "            response = txn.mutate(set_obj=dependency_to_insert)   \n",
    "    txn.commit()\n",
    "\n",
    "        \n"
   ]
  },
  {
   "cell_type": "code",
   "execution_count": 170,
   "metadata": {},
   "outputs": [],
   "source": [
    "@click.command()\n",
    "@click.option('--datadir', help='Directory of the dependency JSON files.')\n",
    "def generate_dep_graph(datadir):\n",
    "    entries = os.listdir(datadir)\n",
    "    for entry in entries:\n",
    "        with open(os.path.join(datadir, entry)) as file:\n",
    "            json_data = json.load(file)\n",
    "            logger.info(\"Inserting data for {}\".format(json_data.get(\"root_pkg\")))\n",
    "            try:\n",
    "                insert_package(json_data)\n",
    "            except Exception as e:\n",
    "                logger.info(\"Failed to parse data for {} with exception {}\".format(json_data.get(\"root_pkg\"), e))\n",
    "\n",
    "if __name__ == '__main__':\n",
    "    generate_dep_graph()\n"
   ]
  },
  {
   "cell_type": "code",
   "execution_count": 163,
   "metadata": {},
   "outputs": [],
   "source": [
    "\n",
    "        "
   ]
  },
  {
   "cell_type": "code",
   "execution_count": 164,
   "metadata": {},
   "outputs": [
    {
     "data": {
      "text/plain": [
       "{'uid': '0x2823',\n",
       " 'name': 'pytest',\n",
       " 'version': '5.4.1',\n",
       " 'depends': [{'name': 'pluggy',\n",
       "   'version': '0.13.1',\n",
       "   'version_specifier': 'pluggy (>=0.12,<1.0)'},\n",
       "  {'name': 'atomicwrites',\n",
       "   'version': '1.3.0',\n",
       "   'version_specifier': 'atomicwrites (>=1.0)'},\n",
       "  {'name': 'attrs',\n",
       "   'version': '19.3.0',\n",
       "   'version_specifier': 'attrs (>=17.4.0)'},\n",
       "  {'name': 'py', 'version': '1.8.1', 'version_specifier': 'py (>=1.5.0)'},\n",
       "  {'name': 'wcwidth', 'version': '0.1.9', 'version_specifier': 'wcwidth (*)'},\n",
       "  {'name': 'more-itertools',\n",
       "   'version': '8.2.0',\n",
       "   'version_specifier': 'more-itertools (>=4.0.0)'},\n",
       "  {'name': 'packaging',\n",
       "   'version': '20.3',\n",
       "   'version_specifier': 'packaging (*)'},\n",
       "  {'name': 'colorama',\n",
       "   'version': '0.4.3',\n",
       "   'version_specifier': 'colorama (*)'}],\n",
       " 'number_dependents': 0}"
      ]
     },
     "execution_count": 164,
     "metadata": {},
     "output_type": "execute_result"
    }
   ],
   "source": []
  },
  {
   "cell_type": "code",
   "execution_count": null,
   "metadata": {},
   "outputs": [],
   "source": []
  }
 ],
 "metadata": {
  "kernelspec": {
   "display_name": "Python 3",
   "language": "python",
   "name": "python3"
  },
  "language_info": {
   "codemirror_mode": {
    "name": "ipython",
    "version": 3
   },
   "file_extension": ".py",
   "mimetype": "text/x-python",
   "name": "python",
   "nbconvert_exporter": "python",
   "pygments_lexer": "ipython3",
   "version": "3.7.6"
  }
 },
 "nbformat": 4,
 "nbformat_minor": 4
}
