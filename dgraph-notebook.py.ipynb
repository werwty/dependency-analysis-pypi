{
 "cells": [
  {
   "cell_type": "code",
   "execution_count": 1,
   "metadata": {},
   "outputs": [],
   "source": [
    "import pydgraph\n"
   ]
  },
  {
   "cell_type": "code",
   "execution_count": 2,
   "metadata": {},
   "outputs": [],
   "source": [
    "client_stub = pydgraph.DgraphClientStub('localhost:9080')\n",
    "client = pydgraph.DgraphClient(client_stub)"
   ]
  },
  {
   "cell_type": "code",
   "execution_count": 7,
   "metadata": {},
   "outputs": [],
   "source": [
    "txn = client.txn()\n",
    "try:\n",
    "\n",
    "    txn.mutate(set_nquads='_:tinysumma <name> \"tinysumma\" .')\n",
    "    txn.mutate(set_nquads='_:tinysumma <dgraph.type> \"Package\" .')\n",
    "    txn.mutate(set_nquads='_:tinysumma <version> \"0.1.0\" .')\n",
    "    txn.mutate(set_nquads='_:tinysumma <depends> _:pandas .')\n",
    "    txn.mutate(set_nquads='_:tinysumma <depends> _:tinyapi .')\n",
    "\n",
    "    txn.mutate(set_nquads='_:tinyapi <name> \"tinyapi\" .')\n",
    "    txn.mutate(set_nquads='_:pandas <name> \"pandas\" .')\n",
    "\n",
    "    txn.commit()\n",
    "finally:\n",
    "  txn.discard()\n"
   ]
  },
  {
   "cell_type": "code",
   "execution_count": null,
   "metadata": {},
   "outputs": [],
   "source": []
  }
 ],
 "metadata": {
  "kernelspec": {
   "display_name": "Python 3",
   "language": "python",
   "name": "python3"
  },
  "language_info": {
   "codemirror_mode": {
    "name": "ipython",
    "version": 3
   },
   "file_extension": ".py",
   "mimetype": "text/x-python",
   "name": "python",
   "nbconvert_exporter": "python",
   "pygments_lexer": "ipython3",
   "version": "3.7.6"
  }
 },
 "nbformat": 4,
 "nbformat_minor": 4
}
