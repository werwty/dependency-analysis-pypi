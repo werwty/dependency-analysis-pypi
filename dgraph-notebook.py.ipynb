{
 "cells": [
  {
   "cell_type": "code",
   "execution_count": 15,
   "metadata": {},
   "outputs": [],
   "source": [
    "import pydgraph\n",
    "import json"
   ]
  },
  {
   "cell_type": "code",
   "execution_count": 8,
   "metadata": {},
   "outputs": [],
   "source": [
    "client_stub = pydgraph.DgraphClientStub('localhost:9080')\n",
    "client = pydgraph.DgraphClient(client_stub)"
   ]
  },
  {
   "cell_type": "code",
   "execution_count": 34,
   "metadata": {},
   "outputs": [
    {
     "data": {
      "text/plain": []
     },
     "execution_count": 34,
     "metadata": {},
     "output_type": "execute_result"
    }
   ],
   "source": [
    "# Drop All - discard all data and start from a clean slate.\n",
    "def drop_all(client):\n",
    "    return client.alter(pydgraph.Operation(drop_all=True))\n",
    "\n",
    "# Set schema.\n",
    "def set_schema(client):\n",
    "    schema = \"\"\"\n",
    "    name: string @index(exact) .\n",
    "    depends: [uid] @reverse .\n",
    "    version: string .\n",
    "    type Package {\n",
    "        name\n",
    "        depends\n",
    "        version\n",
    "    }\n",
    "    \"\"\"\n",
    "    return client.alter(pydgraph.Operation(schema=schema))\n",
    "\n",
    "drop_all(client)\n",
    "\n",
    "set_schema(client)\n",
    "\n"
   ]
  },
  {
   "cell_type": "code",
   "execution_count": 35,
   "metadata": {},
   "outputs": [],
   "source": [
    "   "
   ]
  },
  {
   "cell_type": "code",
   "execution_count": 36,
   "metadata": {},
   "outputs": [],
   "source": [
    "txn = client.txn()\n",
    "\n",
    "try:\n",
    "    django = {\n",
    "        'uid': '_:django',\n",
    "        'dgraph.type': 'Package',\n",
    "        'name': 'Django',\n",
    "        'depends': [\n",
    "            {\n",
    "                'uid': '_:pytz',\n",
    "                'dgraph.type': 'Package',\n",
    "                'name': 'pytz',\n",
    "                'version_specifier': '*'\n",
    "            },\n",
    "            {\n",
    "                'uid': '_:sqlparse',\n",
    "                'dgraph.type': 'Package',\n",
    "                'name': 'sqlparse',\n",
    "                'version_specifier': '>=0.2.2'\n",
    "            },\n",
    "            {\n",
    "                'uid': '_:asgiref',\n",
    "                'dgraph.type': 'Package',\n",
    "                'name': 'asgiref',\n",
    "                'version_specifier': '~=3.2'\n",
    "            },\n",
    "                        {\n",
    "                'uid': '_:argon2-cffi',\n",
    "                'dgraph.type': 'Package',\n",
    "                'name': 'argon2-cffi',\n",
    "                'version_specifier': '>=16.1.0'\n",
    "            },\n",
    "                        {\n",
    "                'uid': '_:bcrypt',\n",
    "                'dgraph.type': 'Package',\n",
    "                'name': 'bcrypt',\n",
    "                'version_specifier': '*'\n",
    "            },\n",
    "        ],\n",
    "    }\n",
    "\n",
    "    asgiref = {\n",
    "        'uid': '_:asgiref',\n",
    "        'dgraph.type': 'Package',\n",
    "        'name': 'asgiref',\n",
    "        'depends': [\n",
    "            {\n",
    "                'uid': '_:pytest',\n",
    "                'dgraph.type': 'Package',\n",
    "                'name': 'pytest',\n",
    "                'version_specifier': '~=4.3.0'\n",
    "            },\n",
    "            {\n",
    "                'uid': '_:pytest-asyncio',\n",
    "                'dgraph.type': 'Package',\n",
    "                'name': 'pytest-asyncio',\n",
    "                'version_specifier': '~=0.10.0'\n",
    "            },\n",
    "           \n",
    "        ],\n",
    "    }\n",
    "    \n",
    "    pytest = {\n",
    "        'uid': '_:pytest',\n",
    "        'dgraph.type': 'Package',\n",
    "        'name': 'pytest',\n",
    "        'depends': [\n",
    "            {\n",
    "                'uid': '_:py',\n",
    "                'dgraph.type': 'Package',\n",
    "                'name': 'py',\n",
    "                'version_specifier': '>=1.5.0'\n",
    "            },\n",
    "            {\n",
    "                'uid': '_:packaging',\n",
    "                'dgraph.type': 'Package',\n",
    "                'name': 'packaging',\n",
    "                'version_specifier': '*'\n",
    "            },\n",
    "           \n",
    "        ],\n",
    "    }\n",
    "    \n",
    "    response = txn.mutate(set_obj=django)\n",
    "    response = txn.mutate(set_obj=asgiref)\n",
    "    response = txn.mutate(set_obj=pytest)\n",
    "\n",
    "    txn.commit()\n",
    "finally:\n",
    "  txn.discard()"
   ]
  },
  {
   "cell_type": "code",
   "execution_count": 40,
   "metadata": {},
   "outputs": [],
   "source": [
    "# Query for data.\n",
    "def query_package(client, package_name):\n",
    "    # Run query.\n",
    "    query = \"\"\"query all($a: string) {\n",
    "        all(func: eq(name, $a)) {\n",
    "            uid\n",
    "            name\n",
    "            version\n",
    "            depends {\n",
    "                name\n",
    "                version\n",
    "                version_specifier\n",
    "            }\n",
    "        }\n",
    "    }\"\"\"\n",
    "\n",
    "    variables = {'$a': package_name}\n",
    "    res = client.txn(read_only=True).query(query, variables=variables)\n",
    "    packages = json.loads(res.json)\n",
    "\n",
    "    # Print results.\n",
    "    print(packages)\n"
   ]
  },
  {
   "cell_type": "code",
   "execution_count": 39,
   "metadata": {},
   "outputs": [
    {
     "name": "stdout",
     "output_type": "stream",
     "text": [
      "{'all': [{'uid': '0x2c', 'name': 'pytest'}, {'uid': '0x2e', 'name': 'pytest', 'depends': [{'name': 'py', 'version_specifier': '>=1.5.0'}, {'name': 'packaging', 'version_specifier': '*'}]}]}\n"
     ]
    }
   ],
   "source": [
    "\n",
    "query_package(client, 'pytest')"
   ]
  },
  {
   "cell_type": "code",
   "execution_count": null,
   "metadata": {},
   "outputs": [],
   "source": []
  }
 ],
 "metadata": {
  "kernelspec": {
   "display_name": "Python 3",
   "language": "python",
   "name": "python3"
  },
  "language_info": {
   "codemirror_mode": {
    "name": "ipython",
    "version": 3
   },
   "file_extension": ".py",
   "mimetype": "text/x-python",
   "name": "python",
   "nbconvert_exporter": "python",
   "pygments_lexer": "ipython3",
   "version": "3.7.6"
  }
 },
 "nbformat": 4,
 "nbformat_minor": 4
}
